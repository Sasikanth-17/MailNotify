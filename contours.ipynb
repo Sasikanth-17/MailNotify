{
 "cells": [
  {
   "cell_type": "code",
   "execution_count": 21,
   "metadata": {},
   "outputs": [],
   "source": [
    "import cv2 as cv\n",
    "import numpy as np\n",
    "import matplotlib.pyplot as plt"
   ]
  },
  {
   "cell_type": "code",
   "execution_count": 26,
   "metadata": {},
   "outputs": [],
   "source": [
    "img = cv.imread(r\"C:\\Users\\Azista Industries\\OneDrive\\Desktop\\Task\\Images\\Dragonball.jpg\")\n",
    "img_gray= cv.cvtColor(img,cv.COLOR_BGR2GRAY)\n",
    "ret,thresh=cv.threshold(img_gray,127,255,0)\n",
    "img_contours,hierarchy=cv.findContours(img_gray,1,2)\n",
    "img_with_contours=cv.drawContours(thresh,img_contours,-1,(0,255,0),3)\n",
    "for i in img_contours:\n",
    "    x,y,w,h=cv.boundingRect(i)\n",
    "    cv.rectangle(img_with_contours,(x,y),(x+w,y+h),(0,255,0),2)\n",
    "img_with_contours=cv.cvtColor(img_with_contours,cv.COLOR_GRAY2RGB)\n",
    "cv.imshow('Contours',img_with_contours)\n",
    "cv.waitKey(0)\n",
    "cv.destroyAllWindows()"
   ]
  },
  {
   "cell_type": "code",
   "execution_count": 21,
   "metadata": {},
   "outputs": [
    {
     "name": "stdout",
     "output_type": "stream",
     "text": [
      "{'m00': 0.0, 'm10': 0.0, 'm01': 0.0, 'm20': 0.0, 'm11': 0.0, 'm02': 0.0, 'm30': 0.0, 'm21': 0.0, 'm12': 0.0, 'm03': 0.0, 'mu20': 0.0, 'mu11': 0.0, 'mu02': 0.0, 'mu30': 0.0, 'mu21': 0.0, 'mu12': 0.0, 'mu03': 0.0, 'nu20': 0.0, 'nu11': 0.0, 'nu02': 0.0, 'nu30': 0.0, 'nu21': 0.0, 'nu12': 0.0, 'nu03': 0.0}\n"
     ]
    }
   ],
   "source": [
    "cnt=img_contours[0]\n",
    "M=cv.moments(cnt)\n",
    "print(M)"
   ]
  },
  {
   "cell_type": "code",
   "execution_count": null,
   "metadata": {},
   "outputs": [],
   "source": []
  }
 ],
 "metadata": {
  "kernelspec": {
   "display_name": "red",
   "language": "python",
   "name": "python3"
  },
  "language_info": {
   "codemirror_mode": {
    "name": "ipython",
    "version": 3
   },
   "file_extension": ".py",
   "mimetype": "text/x-python",
   "name": "python",
   "nbconvert_exporter": "python",
   "pygments_lexer": "ipython3",
   "version": "3.11.9"
  }
 },
 "nbformat": 4,
 "nbformat_minor": 2
}
